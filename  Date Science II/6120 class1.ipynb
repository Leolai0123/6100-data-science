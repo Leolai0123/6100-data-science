{
 "cells": [
  {
   "cell_type": "code",
   "execution_count": 1,
   "metadata": {},
   "outputs": [],
   "source": [
    "import pandas as pd\n",
    "import numpy as np\n",
    "from sklearn.model_selection import train_test_split\n",
    "from sklearn.tree import DecisionTreeClassifier\n",
    "from sklearn.metrics import accuracy_score\n",
    "import seaborn as sns\n",
    "from scipy.stats import mode\n",
    "import time"
   ]
  },
  {
   "cell_type": "code",
   "execution_count": 2,
   "metadata": {},
   "outputs": [],
   "source": [
    "data = sns.load_dataset('titanic')\n",
    "df = data.drop(['deck','class','who','adult_male','embark_town','alive','alone'],axis=1)\n",
    "df['age'] = df['age'].fillna(df.groupby('sex')['age'].transform('mean'))\n",
    "df['fam'] = df['parch'] + df['sibsp']"
   ]
  },
  {
   "cell_type": "code",
   "execution_count": 3,
   "metadata": {},
   "outputs": [
    {
     "data": {
      "text/html": [
       "<div>\n",
       "<style scoped>\n",
       "    .dataframe tbody tr th:only-of-type {\n",
       "        vertical-align: middle;\n",
       "    }\n",
       "\n",
       "    .dataframe tbody tr th {\n",
       "        vertical-align: top;\n",
       "    }\n",
       "\n",
       "    .dataframe thead th {\n",
       "        text-align: right;\n",
       "    }\n",
       "</style>\n",
       "<table border=\"1\" class=\"dataframe\">\n",
       "  <thead>\n",
       "    <tr style=\"text-align: right;\">\n",
       "      <th></th>\n",
       "      <th>survived</th>\n",
       "      <th>pclass</th>\n",
       "      <th>sex</th>\n",
       "      <th>age</th>\n",
       "      <th>sibsp</th>\n",
       "      <th>parch</th>\n",
       "      <th>fare</th>\n",
       "      <th>embarked</th>\n",
       "      <th>fam</th>\n",
       "    </tr>\n",
       "  </thead>\n",
       "  <tbody>\n",
       "    <tr>\n",
       "      <th>0</th>\n",
       "      <td>0</td>\n",
       "      <td>3</td>\n",
       "      <td>male</td>\n",
       "      <td>22.0</td>\n",
       "      <td>1</td>\n",
       "      <td>0</td>\n",
       "      <td>7.2500</td>\n",
       "      <td>S</td>\n",
       "      <td>1</td>\n",
       "    </tr>\n",
       "    <tr>\n",
       "      <th>1</th>\n",
       "      <td>1</td>\n",
       "      <td>1</td>\n",
       "      <td>female</td>\n",
       "      <td>38.0</td>\n",
       "      <td>1</td>\n",
       "      <td>0</td>\n",
       "      <td>71.2833</td>\n",
       "      <td>C</td>\n",
       "      <td>1</td>\n",
       "    </tr>\n",
       "    <tr>\n",
       "      <th>2</th>\n",
       "      <td>1</td>\n",
       "      <td>3</td>\n",
       "      <td>female</td>\n",
       "      <td>26.0</td>\n",
       "      <td>0</td>\n",
       "      <td>0</td>\n",
       "      <td>7.9250</td>\n",
       "      <td>S</td>\n",
       "      <td>0</td>\n",
       "    </tr>\n",
       "    <tr>\n",
       "      <th>3</th>\n",
       "      <td>1</td>\n",
       "      <td>1</td>\n",
       "      <td>female</td>\n",
       "      <td>35.0</td>\n",
       "      <td>1</td>\n",
       "      <td>0</td>\n",
       "      <td>53.1000</td>\n",
       "      <td>S</td>\n",
       "      <td>1</td>\n",
       "    </tr>\n",
       "    <tr>\n",
       "      <th>4</th>\n",
       "      <td>0</td>\n",
       "      <td>3</td>\n",
       "      <td>male</td>\n",
       "      <td>35.0</td>\n",
       "      <td>0</td>\n",
       "      <td>0</td>\n",
       "      <td>8.0500</td>\n",
       "      <td>S</td>\n",
       "      <td>0</td>\n",
       "    </tr>\n",
       "  </tbody>\n",
       "</table>\n",
       "</div>"
      ],
      "text/plain": [
       "   survived  pclass     sex   age  sibsp  parch     fare embarked  fam\n",
       "0         0       3    male  22.0      1      0   7.2500        S    1\n",
       "1         1       1  female  38.0      1      0  71.2833        C    1\n",
       "2         1       3  female  26.0      0      0   7.9250        S    0\n",
       "3         1       1  female  35.0      1      0  53.1000        S    1\n",
       "4         0       3    male  35.0      0      0   8.0500        S    0"
      ]
     },
     "execution_count": 3,
     "metadata": {},
     "output_type": "execute_result"
    }
   ],
   "source": [
    "df.head()"
   ]
  },
  {
   "cell_type": "code",
   "execution_count": 4,
   "metadata": {},
   "outputs": [],
   "source": [
    "df = pd.get_dummies(df, columns=['sex','embarked','pclass'], dtype=int)"
   ]
  },
  {
   "cell_type": "code",
   "execution_count": 5,
   "metadata": {},
   "outputs": [],
   "source": [
    "y = df['survived']\n",
    "X = df.drop('survived', axis=1)"
   ]
  },
  {
   "cell_type": "code",
   "execution_count": 6,
   "metadata": {},
   "outputs": [],
   "source": [
    "all_columns = df.columns.to_list()\n",
    "random_columns = [np.random.choice(all_columns, 3, replace=True).tolist() for i in range (10)]"
   ]
  },
  {
   "cell_type": "code",
   "execution_count": 7,
   "metadata": {},
   "outputs": [
    {
     "data": {
      "text/plain": [
       "[['parch', 'survived', 'sex_female'],\n",
       " ['sex_male', 'age', 'embarked_C'],\n",
       " ['age', 'pclass_1', 'survived'],\n",
       " ['sex_female', 'fare', 'survived'],\n",
       " ['sex_male', 'fare', 'age'],\n",
       " ['sex_male', 'embarked_C', 'fam'],\n",
       " ['embarked_S', 'sex_female', 'embarked_S'],\n",
       " ['pclass_3', 'pclass_3', 'fam'],\n",
       " ['fam', 'embarked_Q', 'pclass_1'],\n",
       " ['pclass_3', 'parch', 'fare']]"
      ]
     },
     "execution_count": 7,
     "metadata": {},
     "output_type": "execute_result"
    }
   ],
   "source": [
    "random_columns"
   ]
  },
  {
   "cell_type": "code",
   "execution_count": 8,
   "metadata": {},
   "outputs": [],
   "source": [
    "X_train, X_test, y_train, y_test = train_test_split(X, y, test_size=0.2, random_state=42)\n",
    "def build_decision_trees(X_train, y_train, num_models=10, num_columns=3):\n",
    "    all_columns = X_train.columns.to_list()\n",
    "    models = []\n",
    "    for i in range(num_models):\n",
    "        selected_columns = np.random.choice(all_columns, num_columns, replace=True).tolist()\n",
    "        X_train_subset = X_train[selected_columns]\n",
    "        tree = DecisionTreeClassifier(random_state=42)\n",
    "        tree.fit(X_train_subset, y_train)\n",
    "        models.append((tree, selected_columns))\n",
    "    return models\n",
    "models = build_decision_trees(X_train, y_train, num_models=10, num_columns=3)"
   ]
  },
  {
   "cell_type": "code",
   "execution_count": 9,
   "metadata": {},
   "outputs": [
    {
     "data": {
      "text/plain": [
       "[(DecisionTreeClassifier(random_state=42), ['parch', 'fam', 'fam']),\n",
       " (DecisionTreeClassifier(random_state=42), ['sibsp', 'fam', 'pclass_1']),\n",
       " (DecisionTreeClassifier(random_state=42), ['parch', 'parch', 'age']),\n",
       " (DecisionTreeClassifier(random_state=42),\n",
       "  ['embarked_C', 'sibsp', 'pclass_3']),\n",
       " (DecisionTreeClassifier(random_state=42),\n",
       "  ['sex_male', 'embarked_C', 'sex_female']),\n",
       " (DecisionTreeClassifier(random_state=42), ['fare', 'age', 'parch']),\n",
       " (DecisionTreeClassifier(random_state=42), ['pclass_3', 'sibsp', 'sex_male']),\n",
       " (DecisionTreeClassifier(random_state=42),\n",
       "  ['embarked_S', 'pclass_3', 'sex_male']),\n",
       " (DecisionTreeClassifier(random_state=42),\n",
       "  ['sibsp', 'sex_male', 'embarked_C']),\n",
       " (DecisionTreeClassifier(random_state=42),\n",
       "  ['embarked_S', 'sex_female', 'pclass_1'])]"
      ]
     },
     "execution_count": 9,
     "metadata": {},
     "output_type": "execute_result"
    }
   ],
   "source": [
    "models"
   ]
  },
  {
   "cell_type": "code",
   "execution_count": 10,
   "metadata": {},
   "outputs": [],
   "source": [
    "def measure_accuracy(models, X_train, y_train):\n",
    "    predictions = []\n",
    "    for tree, selected_columns in models:\n",
    "        X_train_subset = X_train[selected_columns]\n",
    "        pred = tree.predict(X_train_subset)\n",
    "        predictions.append(pred)\n",
    "    predictions = np.array(predictions).T\n",
    "    final_predictions, i = mode(predictions, axis=1)\n",
    "    final_predictions = final_predictions.flatten()\n",
    "    accuracy = accuracy_score(y_train, final_predictions)\n",
    "    #print(predictions)\n",
    "    #print(final_predictions)\n",
    "    return accuracy"
   ]
  },
  {
   "cell_type": "code",
   "execution_count": null,
   "metadata": {},
   "outputs": [],
   "source": [
    "#"
   ]
  }
 ],
 "metadata": {
  "kernelspec": {
   "display_name": "Python 3",
   "language": "python",
   "name": "python3"
  },
  "language_info": {
   "codemirror_mode": {
    "name": "ipython",
    "version": 3
   },
   "file_extension": ".py",
   "mimetype": "text/x-python",
   "name": "python",
   "nbconvert_exporter": "python",
   "pygments_lexer": "ipython3",
   "version": "3.11.0"
  }
 },
 "nbformat": 4,
 "nbformat_minor": 2
}
